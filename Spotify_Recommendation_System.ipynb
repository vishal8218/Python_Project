{
  "cells": [
    {
      "cell_type": "markdown",
      "metadata": {
        "id": "KLIqw-4eio6v"
      },
      "source": [
        "Load the dataset"
      ]
    },
    {
      "cell_type": "code",
      "execution_count": null,
      "metadata": {
        "id": "1ZOX5JWVpWNS"
      },
      "outputs": [],
      "source": [
        "import numpy  as np\n",
        "import pandas as pd\n",
        "import matplotlib.pyplot as plt\n",
        "from sklearn import preprocessing\n",
        "data=pd.read_csv('Songs.csv')\n",
        "data.head()"
      ]
    },
    {
      "cell_type": "markdown",
      "metadata": {
        "id": "93nT_OUAhUOJ"
      },
      "source": [
        "Display Size of dataset"
      ]
    },
    {
      "cell_type": "code",
      "execution_count": null,
      "metadata": {
        "id": "_eUUYNilDNCU"
      },
      "outputs": [],
      "source": [
        "print(data.shape)"
      ]
    },
    {
      "cell_type": "code",
      "execution_count": null,
      "metadata": {
        "id": "uW-q3hipRxHN"
      },
      "outputs": [],
      "source": [
        "print(data.size)"
      ]
    },
    {
      "cell_type": "markdown",
      "metadata": {
        "id": "OxgIytwnhkos"
      },
      "source": [
        "Check the Detail information of the dataframe "
      ]
    },
    {
      "cell_type": "code",
      "execution_count": null,
      "metadata": {
        "id": "269n4nkVh6NO"
      },
      "outputs": [],
      "source": [
        "print(data.info())\n"
      ]
    },
    {
      "cell_type": "code",
      "execution_count": null,
      "metadata": {
        "id": "ucNHMG_kkiLW"
      },
      "outputs": [],
      "source": [
        "print(sorted(data))"
      ]
    },
    {
      "cell_type": "markdown",
      "metadata": {
        "id": "CJnXevq0ke1E"
      },
      "source": [
        "Describe entire dataset"
      ]
    },
    {
      "cell_type": "code",
      "execution_count": null,
      "metadata": {
        "id": "Vdn77lGolASI"
      },
      "outputs": [],
      "source": [
        "data.describe()"
      ]
    },
    {
      "cell_type": "markdown",
      "source": [
        "Delete A Column "
      ],
      "metadata": {
        "id": "BRRfyo4mviGZ"
      }
    },
    {
      "cell_type": "code",
      "source": [
        "data=data.drop(columns=['id','explicit','id_artists','release_date','time_signature','artists'],axis=1)\n"
      ],
      "metadata": {
        "id": "6yiChTzovv0J"
      },
      "execution_count": 24,
      "outputs": []
    },
    {
      "cell_type": "markdown",
      "metadata": {
        "id": "j2or4YaTk1KZ"
      },
      "source": [
        "Check the Null values or Missing"
      ]
    },
    {
      "cell_type": "code",
      "execution_count": null,
      "metadata": {
        "id": "KhoMlcb_lWVJ"
      },
      "outputs": [],
      "source": [
        "data['popularity']=pd.qcut(data['popularity'],q=[0,.2,.4,.6,.8,1],labels=False)\n",
        "print(data['popularity'])\n",
        "data['key']=pd.qcut(data['key'],q=2,labels=[0,1])\n"
      ]
    },
    {
      "cell_type": "markdown",
      "metadata": {
        "id": "8fpUdjy_wGap"
      },
      "source": [
        "Check NULL or missing value After drop few columns"
      ]
    },
    {
      "cell_type": "code",
      "execution_count": null,
      "metadata": {
        "id": "to1od6HjHvME"
      },
      "outputs": [],
      "source": [
        "print(data.isnull().sum())\n"
      ]
    },
    {
      "cell_type": "markdown",
      "metadata": {
        "id": "rGKZo2I8IesH"
      },
      "source": [
        " ! Encoding "
      ]
    },
    {
      "cell_type": "code",
      "execution_count": null,
      "metadata": {
        "id": "XGlkbYDyIsSy"
      },
      "outputs": [],
      "source": [
        "ordi=preprocessing.OrdinalEncoder()\n",
        "ordi.fit(data[['name']])\n",
        "data['name']=ordi.transform(data[['name']])\n",
        "\n",
        "## Handle missing value in name column\n",
        "from sklearn.impute import SimpleImputer\n",
        "si=SimpleImputer(missing_values=np.nan,strategy='mean')\n",
        "si.fit(data[['name']])\n",
        "data['name']=si.transform(data[['name']])\n",
        "\n",
        "data\n"
      ]
    },
    {
      "cell_type": "code",
      "execution_count": null,
      "metadata": {
        "id": "85qe8zQ8BMhq"
      },
      "outputs": [],
      "source": [
        "import seaborn as sns\n",
        "data.corr()\n",
        "colormap = plt.cm.RdBu\n",
        "plt.figure(figsize=(12,14))\n",
        "plt.title('Pearson Correlation of Features')\n",
        "sns.heatmap( data.corr(),linewidths=0.1,vmax=1.0,annot=True)"
      ]
    },
    {
      "cell_type": "markdown",
      "metadata": {
        "id": "PxhnT6TYLzQT"
      },
      "source": [
        "Split the dataset"
      ]
    },
    {
      "cell_type": "code",
      "execution_count": null,
      "metadata": {
        "id": "EL9-lUk-LxV-"
      },
      "outputs": [],
      "source": [
        "x=data.iloc[:,:-1].values\n",
        "y=data['popularity'].values\n",
        "from sklearn.model_selection import train_test_split\n",
        "x_train,x_test,y_train,y_test=train_test_split(x,y,test_size=0.3,random_state=0)\n",
        "plt.plot(x_train)\n",
        "plt.xlabel('Training data')\n",
        "\n",
        "plt.title('Spilit-data')\n",
        "plt.show()"
      ]
    },
    {
      "cell_type": "markdown",
      "metadata": {
        "id": "Vkd8HA4wk_TT"
      },
      "source": [
        "Normalization process"
      ]
    },
    {
      "cell_type": "code",
      "execution_count": 13,
      "metadata": {
        "id": "zQwim_3maBm3"
      },
      "outputs": [],
      "source": [
        "from sklearn.preprocessing import StandardScaler\n",
        "from sklearn.preprocessing import MinMaxScaler\n",
        "stdsc = StandardScaler()\n",
        "stdsc.fit(x_train)\n",
        "x_train_std = stdsc.transform(x_train)\n",
        "x_test_std = stdsc.transform(x_test)\n",
        "\n",
        "\n"
      ]
    },
    {
      "cell_type": "markdown",
      "metadata": {
        "id": "J4Ds5uBNX7Cb"
      },
      "source": [
        "Model and Training"
      ]
    },
    {
      "cell_type": "code",
      "execution_count": null,
      "metadata": {
        "id": "-kfWWSoJpBMK"
      },
      "outputs": [],
      "source": [
        "from sklearn.neighbors import KNeighborsClassifier\n",
        "from sklearn.tree import DecisionTreeClassifier\n",
        "from sklearn.linear_model import LinearRegression\n",
        "knn_model=KNeighborsClassifier()\n",
        "dc_model=DecisionTreeClassifier()\n",
        "knn_model.fit(x_train_std,y_train)\n",
        "dc_model.fit(x_train_std,y_train)\n",
        "lin_reg=LinearRegression()\n",
        "lin_reg.fit(x_train_std,y_train)\n",
        "\n",
        "\n",
        "# Accuracy calculate\n",
        "from sklearn.metrics import  accuracy_score\n",
        "\n",
        "acc_model_knn=knn_model.score(x_test_std,y_test)\n",
        "acc_model_dc=dc_model.score(x_test_std,y_test)\n",
        "acc_model_lin=lin_reg.score(x_test_std,y_test)\n",
        "\n",
        "\n",
        "\n",
        "\n",
        "\n",
        "\n",
        "#print Accuracy\n",
        "\n",
        "print(acc_model_knn)\n",
        "print(acc_model_dc)\n",
        "print(acc_model_lin)\n"
      ]
    },
    {
      "cell_type": "code",
      "execution_count": null,
      "metadata": {
        "id": "8i6Ku5cCI1T0"
      },
      "outputs": [],
      "source": [
        "\n",
        "import plotly.express as px\n",
        "\n",
        "fig=px.bar(x=['KNN_Model_Accuracy','Decision_Tree_Accuracy','Linear_Regression'],y=[acc_model_knn,acc_model_dc,acc_model_lin],labels={'x':'Models','y':'Accuracy'},title='Model Accuracy'\n",
        "\n",
        "           )\n",
        "fig.show()\n"
      ]
    },
    {
      "cell_type": "code",
      "source": [
        "from sklearn.metrics import  confusion_matrix\n",
        "y_pred=knn_model.predict(x_test_std)\n",
        "y_pred_dc=dc_model.predict(x_test_std)\n",
        "print(\"Confusion_ matrix of KNN\")\n",
        "print(confusion_matrix(y_pred, y_test))\n",
        "print(\"Confusion_matrix of Decision_Tree\")\n",
        "print(confusion_matrix(y_pred_dc, y_test))\n",
        "\n",
        "\n"
      ],
      "metadata": {
        "id": "X3By2WE2HooQ"
      },
      "execution_count": null,
      "outputs": []
    },
    {
      "cell_type": "code",
      "source": [
        ""
      ],
      "metadata": {
        "id": "0BR0LtkC9LLm"
      },
      "execution_count": 16,
      "outputs": []
    }
  ],
  "metadata": {
    "colab": {
      "collapsed_sections": [],
      "name": "Spotify_Recommendation_System.ipynb",
      "provenance": []
    },
    "kernelspec": {
      "display_name": "Python 3",
      "name": "python3"
    },
    "language_info": {
      "name": "python"
    }
  },
  "nbformat": 4,
  "nbformat_minor": 0
}